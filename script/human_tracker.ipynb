{
  "nbformat": 4,
  "nbformat_minor": 0,
  "metadata": {
    "colab": {
      "name": "human-tracker.ipynb",
      "provenance": [],
      "collapsed_sections": [],
      "machine_shape": "hm"
    },
    "kernelspec": {
      "name": "python3",
      "display_name": "Python 3"
    },
    "accelerator": "GPU"
  },
  "cells": [
    {
      "cell_type": "code",
      "metadata": {
        "id": "A5FRdO2PJ51r",
        "colab_type": "code",
        "colab": {}
      },
      "source": [
        "# Mount to Google Drive to access our input video and pre-trained models.\n",
        "from google.colab import drive\n",
        "drive.mount('/content/drive')"
      ],
      "execution_count": 0,
      "outputs": []
    },
    {
      "cell_type": "code",
      "metadata": {
        "id": "fh04I9Z6LJ7p",
        "colab_type": "code",
        "outputId": "0e655553-a493-47dc-c386-2c6b3a5dc1de",
        "colab": {
          "base_uri": "https://localhost:8080/",
          "height": 34
        }
      },
      "source": [
        "cd drive/My\\ Drive/human-tracker"
      ],
      "execution_count": 0,
      "outputs": [
        {
          "output_type": "stream",
          "text": [
            "/content/drive/My Drive/human-tracker\n"
          ],
          "name": "stdout"
        }
      ]
    },
    {
      "cell_type": "code",
      "metadata": {
        "id": "CBybgWfpJs8m",
        "colab_type": "code",
        "outputId": "b480d1ff-79c0-425a-8285-4842c673e6ed",
        "colab": {
          "base_uri": "https://localhost:8080/",
          "height": 50
        }
      },
      "source": [
        "\n",
        "'''\n",
        "Code modified to run on Google Colab.\n",
        "\n",
        "Edmond Tsoi, Steven Huang, Nicholas for EECS 442 Final Project, Winter 2020\n",
        "Human Recognition, Path Detection, and Classification using Faster RCNN\n",
        "\n",
        "Dependencies: TensorFlow v2.2.0, Python3.7, OpenCV 4.1 (Google Colab Pro with GPU enabled)\n",
        "'''\n",
        "\n",
        "import numpy as np\n",
        "import os \n",
        "import tensorflow as tf\n",
        "import cv2\n",
        "import time\n",
        "import pickle\n",
        "from google.colab.patches import cv2_imshow\n",
        "\n",
        "# Supress Warning message\n",
        "os.environ['TF_CPP_MIN_LOG_LEVEL']='2'\n",
        "\n",
        "# Ensure TensorFlow and OpenCV versions are compatible with our code.\n",
        "print(\"TensorFlow version: {}\".format(tf.__version__))\n",
        "print(\"OpenCV version: {}\".format(cv2.__version__))\n",
        "\n",
        "'''\n",
        "DetectorAPI class adapted from Tensorflow Object Detection Framework\n",
        "Reference URL: https://github.com/tensorflow/models/blob/master/research/object_detection/object_detection_tutorial.ipynb\n",
        "'''\n",
        "class DetectorAPI:\n",
        "    def __init__(self, path_to_ckpt):\n",
        "        self.path_to_ckpt = path_to_ckpt\n",
        "\n",
        "        self.detection_graph = tf.Graph()\n",
        "        with self.detection_graph.as_default():\n",
        "            od_graph_def = tf.compat.v1.GraphDef()\n",
        "            with tf.io.gfile.GFile(self.path_to_ckpt, 'rb') as fid:\n",
        "                serialized_graph = fid.read()\n",
        "                od_graph_def.ParseFromString(serialized_graph)\n",
        "                tf.import_graph_def(od_graph_def, name='')\n",
        "\n",
        "        self.default_graph = self.detection_graph.as_default()\n",
        "        self.sess = tf.compat.v1.Session(graph=self.detection_graph)\n",
        "\n",
        "        # Definite input and output Tensors for detection_graph\n",
        "        self.image_tensor = self.detection_graph.get_tensor_by_name('image_tensor:0')\n",
        "        # Each box represents a part of the image where a particular object was detected.\n",
        "        self.detection_boxes = self.detection_graph.get_tensor_by_name('detection_boxes:0')\n",
        "        # Each score represent how level of confidence for each of the objects.\n",
        "        # Score is shown on the result image, together with the class label.\n",
        "        self.detection_scores = self.detection_graph.get_tensor_by_name('detection_scores:0')\n",
        "        self.detection_classes = self.detection_graph.get_tensor_by_name('detection_classes:0')\n",
        "        self.num_detections = self.detection_graph.get_tensor_by_name('num_detections:0')\n",
        "\n",
        "    def processFrame(self, image):\n",
        "        # Expand dimensions since the trained_model expects images to have shape: [1, None, None, 3]\n",
        "        image_np_expanded = np.expand_dims(image, axis=0)\n",
        "        # Actual detection.\n",
        "        start_time = time.time()\n",
        "        (boxes, scores, classes, num) = self.sess.run(\n",
        "            [self.detection_boxes, self.detection_scores, self.detection_classes, self.num_detections],\n",
        "            feed_dict={self.image_tensor: image_np_expanded})\n",
        "        end_time = time.time()\n",
        "\n",
        "        print(\"Frame Time:\", end_time-start_time)\n",
        "\n",
        "        im_height, im_width,_ = image.shape\n",
        "        boxes_list = [None for i in range(boxes.shape[1])]\n",
        "        for i in range(boxes.shape[1]):\n",
        "            boxes_list[i] = (int(boxes[0,i,0] * im_height),\n",
        "                        int(boxes[0,i,1]*im_width),\n",
        "                        int(boxes[0,i,2] * im_height),\n",
        "                        int(boxes[0,i,3]*im_width))\n",
        "\n",
        "        return boxes_list, scores[0].tolist(), [int(x) for x in classes[0].tolist()], int(num[0])\n",
        "\n",
        "    def close(self):\n",
        "        self.sess.close()\n",
        "        self.default_graph.close()\n",
        "\n",
        "'''\n",
        "Simple algorithm to detect falling\n",
        "'''\n",
        "def falling(w, h):\n",
        "    return float(w)/h >=0.80\n",
        "\n",
        "if __name__ == \"__main__\":\n",
        "    # model_path = '/content/drive/My Drive/human-tracker/ssd_inception_v2_coco_11_06_2017/frozen_inference_graph.pb'\n",
        "    model_path = '/content/drive/My Drive/human-tracker/faster_rcnn_inception_v2_coco_2018_01_28/frozen_inference_graph.pb'\n",
        "    odapi = DetectorAPI(path_to_ckpt=model_path)\n",
        "    # Hyperparameters: thresholds for different classes (class 1 = human, class 3 = cars etc.)\n",
        "    # Reference to labels: https://tech.amikelive.com/node-718/what-object-categories-labels-are-in-coco-dataset/\n",
        "    thresholds = [0.4, 0.8]\n",
        "\n",
        "    # Walking video footage adapted from: https://www.youtube.com/watch?v=QyUi149TcPQ\n",
        "    # Modify the input video path (You can choose any video as you wish.) \n",
        "    # cap = cv2.VideoCapture('/content/drive/My Drive/human-tracker/vids/me-falling.mp4')\n",
        "    cap = cv2.VideoCapture('/content/drive/My Drive/human-tracker/walking.mp4')\n",
        "    vw, vh = int(cap.get(cv2.CAP_PROP_FRAME_WIDTH)) , int(cap.get(cv2.CAP_PROP_FRAME_HEIGHT)) \n",
        "    pts = []\n",
        "    count = 0\n",
        "\n",
        "    # Adapt for google colab way of displaying video.\n",
        "    fourcc = cv2.VideoWriter_fourcc(*'MP4V')\n",
        "    # make sure resolution matches frame resolution.\n",
        "    out = cv2.VideoWriter('/content/drive/My Drive/human-tracker/output/output-walking.mp4', fourcc, 20.0, (vw, vh))\n",
        "    outer_box = []\n",
        "    while True:\n",
        "        count += 1\n",
        "        r, img = cap.read()\n",
        "        if not r:\n",
        "          break\n",
        "        img = cv2.resize(img, (vw, vh))\n",
        "        boxes, scores, classes, num = odapi.processFrame(img)\n",
        "        # Visualization of the results of a detection.\n",
        "        for i in range(len(boxes)):\n",
        "            # Class 1 represents human.\n",
        "            if classes[i] == 1 and scores[i] > thresholds[0]:\n",
        "                box = boxes[i]\n",
        "                outer_box.append(box)\n",
        "\n",
        "                x = [box[1], box[3]]\n",
        "                y = [box[0], box[2]]\n",
        "                w, h = box[3] - box[1], box[2] - box[0]\n",
        "                # rect_color = (0, 0, 255) if falling(w, h) else (255, 0, 0)\n",
        "                rect_color = (255, 0, 0)\n",
        "                cv2.putText(img, \"Person\", (box[1], box[0]-10), cv2.FONT_HERSHEY_SIMPLEX, 0.5, (0, 0, 0), 1)\n",
        "                cv2.rectangle(img,(box[1],box[0]),(box[3],box[2]), rect_color,2)\n",
        "                # Code to compute mean coordinates and generate path using the cv2.circle method.\n",
        "                center_coordinates = (sum(x) // 2, max(y)-5)\n",
        "                pts.append(center_coordinates)\n",
        "\n",
        "                # for pt in pts:\n",
        "                #     cv2.circle(img, pt, 2, (0, 0, 255), 1)\n",
        "\n",
        "            # Class 3 represents car.\n",
        "            if classes[i] == 3 and scores[i] > thresholds[2]:\n",
        "                box = boxes[i]\n",
        "                cv2.rectangle(img,(box[1],box[0]),(box[3],box[2]),(0,128,0),2)\n",
        "        # Save our output video in mp4 format (using cv2.VideoWriter)\n",
        "        out.write(img)\n",
        "    # Dump our file into a pickle object.\n",
        "    file = open('important', 'wb')\n",
        "    pickle.dump(outer_box, file)\n",
        "    file.close()\n",
        "    # Release videoWriter.\n",
        "    out.release()\n"
      ],
      "execution_count": 0,
      "outputs": [
        {
          "output_type": "stream",
          "text": [
            "TensorFlow version: 2.2.0-rc3\n",
            "OpenCV version: 4.1.2\n"
          ],
          "name": "stdout"
        }
      ]
    },
    {
      "cell_type": "code",
      "metadata": {
        "id": "_9tB1AY2S5nn",
        "colab_type": "code",
        "colab": {}
      },
      "source": [
        ""
      ],
      "execution_count": 0,
      "outputs": []
    }
  ]
}